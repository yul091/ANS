{
 "cells": [
  {
   "cell_type": "code",
   "execution_count": 1,
   "metadata": {},
   "outputs": [],
   "source": [
    "from collections import defaultdict\n",
    "import pandas as pd\n",
    "import gzip\n",
    "from tqdm import *\n",
    "import numpy as np \n",
    "import random\n",
    "from sklearn.model_selection import train_test_split\n",
    "from sklearn.preprocessing import MinMaxScaler\n",
    "import math\n",
    "import matplotlib.pyplot as plt\n",
    "from model import BPR_MF, BPR_MF_DNS, BPR_MF_ANS, APR"
   ]
  },
  {
   "cell_type": "code",
   "execution_count": 2,
   "metadata": {},
   "outputs": [
    {
     "name": "stdout",
     "output_type": "stream",
     "text": [
      "(200000, 3)\n"
     ]
    },
    {
     "data": {
      "text/html": [
       "<div>\n",
       "<style scoped>\n",
       "    .dataframe tbody tr th:only-of-type {\n",
       "        vertical-align: middle;\n",
       "    }\n",
       "\n",
       "    .dataframe tbody tr th {\n",
       "        vertical-align: top;\n",
       "    }\n",
       "\n",
       "    .dataframe thead th {\n",
       "        text-align: right;\n",
       "    }\n",
       "</style>\n",
       "<table border=\"1\" class=\"dataframe\">\n",
       "  <thead>\n",
       "    <tr style=\"text-align: right;\">\n",
       "      <th></th>\n",
       "      <th>userID</th>\n",
       "      <th>bookID</th>\n",
       "      <th>label</th>\n",
       "    </tr>\n",
       "  </thead>\n",
       "  <tbody>\n",
       "    <tr>\n",
       "      <th>0</th>\n",
       "      <td>3645</td>\n",
       "      <td>0</td>\n",
       "      <td>1</td>\n",
       "    </tr>\n",
       "    <tr>\n",
       "      <th>1</th>\n",
       "      <td>4514</td>\n",
       "      <td>6601</td>\n",
       "      <td>1</td>\n",
       "    </tr>\n",
       "    <tr>\n",
       "      <th>2</th>\n",
       "      <td>1947</td>\n",
       "      <td>440</td>\n",
       "      <td>1</td>\n",
       "    </tr>\n",
       "    <tr>\n",
       "      <th>3</th>\n",
       "      <td>7382</td>\n",
       "      <td>5022</td>\n",
       "      <td>1</td>\n",
       "    </tr>\n",
       "    <tr>\n",
       "      <th>4</th>\n",
       "      <td>3773</td>\n",
       "      <td>4466</td>\n",
       "      <td>1</td>\n",
       "    </tr>\n",
       "  </tbody>\n",
       "</table>\n",
       "</div>"
      ],
      "text/plain": [
       "   userID  bookID  label\n",
       "0    3645       0      1\n",
       "1    4514    6601      1\n",
       "2    1947     440      1\n",
       "3    7382    5022      1\n",
       "4    3773    4466      1"
      ]
     },
     "execution_count": 2,
     "metadata": {},
     "output_type": "execute_result"
    }
   ],
   "source": [
    "path = \"./data/\"\n",
    "file_list = ['kaggle.txt', 'pinterest-20.train.rating', 'yelp.rating']\n",
    "ml = pd.read_csv(path+file_list[0],sep='\\t',header=None,names=['userID','bookID','rating','stamp'])\n",
    "ml = ml.drop(['rating','stamp'], axis=1)\n",
    "ml['label'] = [1]*len(ml)\n",
    "print(ml.shape)\n",
    "ml.head()"
   ]
  },
  {
   "cell_type": "code",
   "execution_count": 3,
   "metadata": {},
   "outputs": [],
   "source": [
    "ml_group = ml.groupby('userID',sort=False).bookID.unique().agg(len)"
   ]
  },
  {
   "cell_type": "code",
   "execution_count": 4,
   "metadata": {},
   "outputs": [
    {
     "name": "stdout",
     "output_type": "stream",
     "text": [
      "average number of reading books per user:  17.610284406093157\n",
      "percentage of users reading more than average: 38.52%\n",
      "percentage of users reading less than average: 61.48%\n"
     ]
    }
   ],
   "source": [
    "ml_meanlength = ml_group.values.mean()\n",
    "ml_overaverage = sum((ml_group.values > ml_meanlength))/len(ml_group.values)\n",
    "ml_lessaverage = sum((ml_group.values <= ml_meanlength))/len(ml_group.values)\n",
    "print('average number of reading books per user: ',ml_meanlength)\n",
    "print(f'percentage of users reading more than average: {round(ml_overaverage*100,2)}%')\n",
    "print(f'percentage of users reading less than average: {round(ml_lessaverage*100,2)}%')"
   ]
  },
  {
   "cell_type": "code",
   "execution_count": 5,
   "metadata": {},
   "outputs": [
    {
     "data": {
      "image/png": "[encoded data removed]",
      "text/plain": [
       "<Figure size 432x288 with 1 Axes>"
      ]
     },
     "metadata": {},
     "output_type": "display_data"
    }
   ],
   "source": [
    "freq, edges, pathches = plt.hist(ml_group, bins=100)\n",
    "plt.axvline(x=ml_meanlength, linestyle='--',color='r',label='average')\n",
    "plt.legend()\n",
    "plt.title('User Frequency vs. Number of relevant books read')\n",
    "plt.xlabel('Number of relevant books read')\n",
    "plt.ylabel('User Frequency')\n",
    "plt.grid()"
   ]
  },
  {
   "cell_type": "code",
   "execution_count": 6,
   "metadata": {},
   "outputs": [],
   "source": [
    "%load_ext line_profiler"
   ]
  },
  {
   "cell_type": "code",
   "execution_count": 7,
   "metadata": {},
   "outputs": [],
   "source": [
    "def get_embedding(data):\n",
    "    users, books = data['userID'].values, data['bookID'].values\n",
    "    user_books = defaultdict(set)\n",
    "    usernotread = defaultdict(list)\n",
    "    for i in range(len(users)):\n",
    "        user_books[users[i]].add(books[i])\n",
    "    all_users, all_books = list(set(users)), set(books)\n",
    "    # embedding\n",
    "    user2index, book2index = defaultdict(int), defaultdict(int)\n",
    "    for i in range(len(all_users)):\n",
    "        u = all_users[i]\n",
    "        user2index[u] = i\n",
    "        usernotread[u] = list(all_books-user_books[u])\n",
    "    all_books = list(all_books)\n",
    "    for j in range(len(all_books)):\n",
    "        book2index[all_books[j]] = j\n",
    "        \n",
    "    return all_users, all_books, user_books, user2index, book2index, usernotread"
   ]
  },
  {
   "cell_type": "code",
   "execution_count": 8,
   "metadata": {},
   "outputs": [],
   "source": [
    "def generate_negative(train_data, data, sample_num):\n",
    "    negative_train = []\n",
    "    users_train, books_train, labels_train = train_data['userID'].values, train_data['bookID'].values, train_data['label'].values\n",
    "    all_users_train, all_books_train, user_books_train, _, _, _ = get_embedding(train_data)\n",
    "    all_users, all_books, user_books, _, _, usernotread = get_embedding(data)\n",
    "    \n",
    "    for i in tqdm_notebook(range(len(train_data))):\n",
    "        u, b, label = users_train[i], books_train[i], labels_train[i]\n",
    "        _b = random.sample(usernotread[u],sample_num) # the negative samples are selected from the whole dataset's negative samples\n",
    "        for b0 in _b:\n",
    "            negative_train.append([u, b0, 0])\n",
    "            usernotread[u].remove(b0)    \n",
    "\n",
    "    negative_data_train = pd.DataFrame(negative_train) \n",
    "    negative_data_train.columns = ['userID', 'bookID', 'label']\n",
    "    train_data_mix = train_data.append(negative_data_train, ignore_index=True)\n",
    "    return train_data_mix"
   ]
  },
  {
   "cell_type": "code",
   "execution_count": 9,
   "metadata": {},
   "outputs": [],
   "source": [
    "def oneuserpos(valid_data):\n",
    "    data = []\n",
    "    users, books = valid_data['userID'].values, valid_data['bookID'].values\n",
    "    user_books = defaultdict(set)\n",
    "    for i in range(len(users)):\n",
    "        user_books[users[i]].add(books[i])\n",
    "        \n",
    "    for u in user_books.keys():\n",
    "        b = random.choice(list(user_books[u]))\n",
    "        data.append([u,b,1])\n",
    "        \n",
    "    data = np.array(data)\n",
    "    dataset = pd.DataFrame({'userID': data[:, 0], 'bookID': data[:, 1], 'label': data[:, 2]})\n",
    "    return dataset"
   ]
  },
  {
   "cell_type": "code",
   "execution_count": 10,
   "metadata": {},
   "outputs": [
    {
     "data": {
      "application/vnd.jupyter.widget-view+json": {
       "model_id": "dc9c91c6a7914a12b9ffd55856656b98",
       "version_major": 2,
       "version_minor": 0
      },
      "text/html": [
       "<p>Failed to display Jupyter Widget of type <code>HBox</code>.</p>\n",
       "<p>\n",
       "  If you're reading this message in the Jupyter Notebook or JupyterLab Notebook, it may mean\n",
       "  that the widgets JavaScript is still loading. If this message persists, it\n",
       "  likely means that the widgets JavaScript library is either not installed or\n",
       "  not enabled. See the <a href=\"https://ipywidgets.readthedocs.io/en/stable/user_install.html\">Jupyter\n",
       "  Widgets Documentation</a> for setup instructions.\n",
       "</p>\n",
       "<p>\n",
       "  If you're reading this message in another frontend (for example, a static\n",
       "  rendering on GitHub or <a href=\"https://nbviewer.jupyter.org/\">NBViewer</a>),\n",
       "  it may mean that your frontend doesn't currently support widgets.\n",
       "</p>\n"
      ],
      "text/plain": [
       "HBox(children=(IntProgress(value=0, max=6266), HTML(value='')))"
      ]
     },
     "metadata": {},
     "output_type": "display_data"
    },
    {
     "name": "stdout",
     "output_type": "stream",
     "text": [
      "\n"
     ]
    }
   ],
   "source": [
    "train_ml, valid_ml = train_test_split(ml, test_size=1/20)\n",
    "valid_ml = oneuserpos(valid_ml)\n",
    "valid_ml_mix = generate_negative(valid_ml, ml, 99)\n",
    "\n",
    "Xtrain_ml = np.concatenate((train_ml['userID'].values.reshape(-1,1)\n",
    "                         ,train_ml['bookID'].values.reshape(-1,1) \n",
    "                        ),axis=1)\n",
    "ytrain_ml = train_ml['label'].values\n",
    "Xvalid_ml_mix = np.concatenate((valid_ml_mix['userID'].values.reshape(-1,1), \n",
    "                         valid_ml_mix['bookID'].values.reshape(-1,1), \n",
    "                        ),axis=1)\n",
    "yvalid_ml_mix = valid_ml_mix['label'].values"
   ]
  },
  {
   "cell_type": "code",
   "execution_count": 11,
   "metadata": {},
   "outputs": [
    {
     "name": "stdout",
     "output_type": "stream",
     "text": [
      "(6266, 3)\n",
      "(626600,)\n"
     ]
    }
   ],
   "source": [
    "print(valid_ml.shape)\n",
    "print(yvalid_ml_mix.shape)"
   ]
  },
  {
   "cell_type": "markdown",
   "metadata": {},
   "source": [
    "## Models BPR training"
   ]
  },
  {
   "cell_type": "code",
   "execution_count": 12,
   "metadata": {
    "scrolled": true
   },
   "outputs": [
    {
     "data": {
      "application/vnd.jupyter.widget-view+json": {
       "model_id": "f388eaf129ad412cbab4623e1b54e7a7",
       "version_major": 2,
       "version_minor": 0
      },
      "text/html": [
       "<p>Failed to display Jupyter Widget of type <code>HBox</code>.</p>\n",
       "<p>\n",
       "  If you're reading this message in the Jupyter Notebook or JupyterLab Notebook, it may mean\n",
       "  that the widgets JavaScript is still loading. If this message persists, it\n",
       "  likely means that the widgets JavaScript library is either not installed or\n",
       "  not enabled. See the <a href=\"https://ipywidgets.readthedocs.io/en/stable/user_install.html\">Jupyter\n",
       "  Widgets Documentation</a> for setup instructions.\n",
       "</p>\n",
       "<p>\n",
       "  If you're reading this message in another frontend (for example, a static\n",
       "  rendering on GitHub or <a href=\"https://nbviewer.jupyter.org/\">NBViewer</a>),\n",
       "  it may mean that your frontend doesn't currently support widgets.\n",
       "</p>\n"
      ],
      "text/plain": [
       "HBox(children=(IntProgress(value=0), HTML(value='')))"
      ]
     },
     "metadata": {},
     "output_type": "display_data"
    },
    {
     "name": "stdout",
     "output_type": "stream",
     "text": [
      "epoch: 1, HR: 0.08442387488030642, NDCG: 0.035504344431690676, AUC: 0.5036609310468236\n",
      "epoch: 2, HR: 0.08873284391956592, NDCG: 0.038850673094727124, AUC: 0.5085228280249017\n",
      "epoch: 3, HR: 0.12879029684008936, NDCG: 0.06061128572189616, AUC: 0.540300870176388\n",
      "epoch: 4, HR: 0.24273858921161826, NDCG: 0.12671716349457646, AUC: 0.6255420467038758\n",
      "epoch: 5, HR: 0.34806894350462814, NDCG: 0.18467737213699378, AUC: 0.7073431409531048\n",
      "epoch: 6, HR: 0.3777529524417491, NDCG: 0.20020268671098765, AUC: 0.7378750801987414\n",
      "epoch: 7, HR: 0.37392275774018513, NDCG: 0.19793956594899118, AUC: 0.7351507413748168\n",
      "epoch: 8, HR: 0.3662623683370571, NDCG: 0.1956018109087478, AUC: 0.7348251103437873\n",
      "epoch: 9, HR: 0.36977338014682415, NDCG: 0.19662035584054094, AUC: 0.7376445592213295\n",
      "epoch: 10, HR: 0.38589211618257263, NDCG: 0.2010387397711604, AUC: 0.7474602391614943\n",
      "epoch: 11, HR: 0.3951484200446856, NDCG: 0.2080087545187121, AUC: 0.7592087488353115\n",
      "epoch: 12, HR: 0.4052026811362911, NDCG: 0.2136178599346784, AUC: 0.769224321091554\n",
      "epoch: 13, HR: 0.4103096074050431, NDCG: 0.21410195535349164, AUC: 0.7756031428230753\n",
      "epoch: 14, HR: 0.4056814554739866, NDCG: 0.21374010787927883, AUC: 0.7778374230656506\n",
      "epoch: 15, HR: 0.4072773699329716, NDCG: 0.21417727365572567, AUC: 0.7795236114738298\n",
      "epoch: 16, HR: 0.4085541015001596, NDCG: 0.21424635856121926, AUC: 0.7813838996411735\n",
      "epoch: 17, HR: 0.4087136929460581, NDCG: 0.2149194097923276, AUC: 0.7825139360409195\n",
      "epoch: 18, HR: 0.4080753271624641, NDCG: 0.21489797648834733, AUC: 0.782117375478379\n",
      "epoch: 19, HR: 0.4095116501755506, NDCG: 0.213999666566244, AUC: 0.7814773976599798\n",
      "epoch: 20, HR: 0.4093520587296521, NDCG: 0.21540214821163747, AUC: 0.7817691759600602\n",
      "epoch: 21, HR: 0.4170124481327801, NDCG: 0.22111619892687012, AUC: 0.7828105504454176\n",
      "epoch: 22, HR: 0.4163740823491861, NDCG: 0.21606654431801087, AUC: 0.7851866897510164\n",
      "epoch: 23, HR: 0.4163740823491861, NDCG: 0.22163909785281943, AUC: 0.7857331695506085\n",
      "epoch: 24, HR: 0.4195659112671561, NDCG: 0.22079156447092962, AUC: 0.7871920610509937\n",
      "epoch: 25, HR: 0.42419406319821257, NDCG: 0.22381630647007403, AUC: 0.7890152724177718\n",
      "epoch: 26, HR: 0.42403447175231407, NDCG: 0.22759065721309182, AUC: 0.7897390760461416\n",
      "epoch: 27, HR: 0.4302585381423556, NDCG: 0.22667237671585877, AUC: 0.7908852327939586\n",
      "epoch: 28, HR: 0.42531120331950206, NDCG: 0.2273894957802819, AUC: 0.7909319818033611\n",
      "epoch: 29, HR: 0.4345675071816151, NDCG: 0.22907929920423323, AUC: 0.7926310664900007\n",
      "epoch: 30, HR: 0.42930098946696454, NDCG: 0.22499996057938385, AUC: 0.7927535811353337\n",
      "epoch: 31, HR: 0.4318544526013406, NDCG: 0.22835816934666825, AUC: 0.7948814670806477\n",
      "epoch: 32, HR: 0.43712097031599106, NDCG: 0.23016000156374344, AUC: 0.7953102683393265\n",
      "epoch: 33, HR: 0.44334503670603254, NDCG: 0.2330494969684837, AUC: 0.7972737267343223\n",
      "epoch: 34, HR: 0.44206830513884454, NDCG: 0.2335584868978441, AUC: 0.7979362730400209\n",
      "epoch: 35, HR: 0.43791892754548356, NDCG: 0.2320022872883809, AUC: 0.7976686752620459\n",
      "epoch: 36, HR: 0.4350462815193106, NDCG: 0.22987281145721558, AUC: 0.7985423981274702\n",
      "epoch: 37, HR: 0.43744015320778806, NDCG: 0.23413425339990512, AUC: 0.8000738311941714\n",
      "epoch: 38, HR: 0.44956910309607406, NDCG: 0.23607743486902016, AUC: 0.799832025973116\n",
      "epoch: 39, HR: 0.44462176827322053, NDCG: 0.2380874203755399, AUC: 0.800994303069001\n",
      "epoch: 40, HR: 0.44286626236833704, NDCG: 0.2363468929905869, AUC: 0.800642879481064\n",
      "epoch: 41, HR: 0.45180338333865305, NDCG: 0.23730072741283667, AUC: 0.8015585152514713\n",
      "epoch: 42, HR: 0.4463772741781041, NDCG: 0.23750466798419193, AUC: 0.8026321304329735\n",
      "epoch: 43, HR: 0.4462176827322056, NDCG: 0.23699786122347696, AUC: 0.8025047796832182\n",
      "epoch: 44, HR: 0.45004787743376956, NDCG: 0.24014208405510012, AUC: 0.8023371280632797\n",
      "epoch: 45, HR: 0.44893073731248007, NDCG: 0.241187585534472, AUC: 0.8033285294696187\n",
      "epoch: 46, HR: 0.4462176827322056, NDCG: 0.24047435968580774, AUC: 0.8035090773680093\n",
      "epoch: 47, HR: 0.45020746887966806, NDCG: 0.23832546713856376, AUC: 0.8037025215448581\n",
      "epoch: 48, HR: 0.44956910309607406, NDCG: 0.24035541416373496, AUC: 0.8048454542230599\n",
      "epoch: 49, HR: 0.45116501755505906, NDCG: 0.24006413537590937, AUC: 0.8058900527780334\n",
      "epoch: 50, HR: 0.44765400574529207, NDCG: 0.2407080104497972, AUC: 0.8063559308372702\n",
      "epoch: 51, HR: 0.45419725502713054, NDCG: 0.2435756306931435, AUC: 0.8058981129520665\n",
      "epoch: 52, HR: 0.45499521225662304, NDCG: 0.24501670430668243, AUC: 0.807073286326409\n",
      "epoch: 53, HR: 0.45435684647302904, NDCG: 0.2438376645719804, AUC: 0.8077793575719011\n",
      "epoch: 54, HR: 0.45244174912224705, NDCG: 0.2417740924113137, AUC: 0.8081082126725402\n",
      "epoch: 55, HR: 0.4596233641876795, NDCG: 0.2472734725203078, AUC: 0.8096767225398055\n",
      "epoch: 56, HR: 0.460102138525375, NDCG: 0.24866423069343752, AUC: 0.8103650614024184\n",
      "epoch: 57, HR: 0.46473029045643155, NDCG: 0.24685679965426302, AUC: 0.8106971405726722\n",
      "epoch: 58, HR: 0.46728375359080754, NDCG: 0.24795897617441387, AUC: 0.8101087478680947\n",
      "epoch: 59, HR: 0.46776252792850304, NDCG: 0.25199164001029195, AUC: 0.8112355601982248\n",
      "epoch: 60, HR: 0.46616661346951804, NDCG: 0.25049657477280485, AUC: 0.8108712403318347\n",
      "epoch: 61, HR: 0.46824130226619853, NDCG: 0.2502931172662073, AUC: 0.8119706480702445\n",
      "epoch: 62, HR: 0.46856048515799553, NDCG: 0.2537434162815951, AUC: 0.8123543123543242\n",
      "epoch: 63, HR: 0.46105968720076607, NDCG: 0.24701355995669924, AUC: 0.8118078325547337\n",
      "epoch: 64, HR: 0.46584743057772104, NDCG: 0.25129271657082997, AUC: 0.8107068127815129\n",
      "epoch: 65, HR: 0.4704755825087775, NDCG: 0.2504202839364708, AUC: 0.8118416852856782\n",
      "epoch: 66, HR: 0.474784551548037, NDCG: 0.2543110277557755, AUC: 0.8130603835998168\n",
      "epoch: 67, HR: 0.471911905521864, NDCG: 0.25397689446290056, AUC: 0.8141227145376634\n",
      "epoch: 68, HR: 0.4743057772103415, NDCG: 0.2551206649460814, AUC: 0.8143661317935307\n",
      "epoch: 69, HR: 0.46664538780721354, NDCG: 0.2534000795050627, AUC: 0.8138244880983613\n",
      "epoch: 70, HR: 0.46887966804979253, NDCG: 0.2510225578931117, AUC: 0.8135439940419322\n",
      "epoch: 71, HR: 0.469677625279285, NDCG: 0.25313420484398574, AUC: 0.8138454445508501\n",
      "epoch: 72, HR: 0.46712416214490904, NDCG: 0.2493070380869197, AUC: 0.8134230914314027\n",
      "epoch: 73, HR: 0.46728375359080754, NDCG: 0.2509768229351348, AUC: 0.8139131500127492\n",
      "epoch: 74, HR: 0.470635173954676, NDCG: 0.25493012435198764, AUC: 0.8154236266269583\n",
      "epoch: 75, HR: 0.47685924034471755, NDCG: 0.2557015807452306, AUC: 0.815570321794403\n",
      "epoch: 76, HR: 0.4730290456431535, NDCG: 0.2515615309332677, AUC: 0.8148981032798575\n",
      "epoch: 77, HR: 0.4714331311841685, NDCG: 0.2537265239227978, AUC: 0.8154445830794498\n",
      "epoch: 78, HR: 0.474146185764443, NDCG: 0.2550396080054551, AUC: 0.8161296978724463\n",
      "epoch: 79, HR: 0.472869454197255, NDCG: 0.2541433764764763, AUC: 0.8156509235347507\n",
      "epoch: 80, HR: 0.47685924034471755, NDCG: 0.25542739938413134, AUC: 0.8168357691179349\n",
      "epoch: 81, HR: 0.4717523140759655, NDCG: 0.2519592420035226, AUC: 0.8156605957435941\n",
      "epoch: 82, HR: 0.47925311203319504, NDCG: 0.2563103132758575, AUC: 0.8156589837087898\n",
      "epoch: 83, HR: 0.474784551548037, NDCG: 0.25488115152295926, AUC: 0.8159298055563736\n",
      "epoch: 84, HR: 0.4759016916693265, NDCG: 0.25493944607278507, AUC: 0.8153913859308152\n",
      "epoch: 85, HR: 0.4765400574529205, NDCG: 0.25292315879435084, AUC: 0.8160281396796009\n",
      "epoch: 86, HR: 0.4746249601021385, NDCG: 0.25803145640373765, AUC: 0.8170969187566856\n",
      "epoch: 87, HR: 0.4739865943185445, NDCG: 0.25341782208850455, AUC: 0.8152221222760752\n",
      "epoch: 88, HR: 0.4755825087775295, NDCG: 0.2563311804628173, AUC: 0.81686317370966\n",
      "epoch: 89, HR: 0.471592722630067, NDCG: 0.2530109113149323, AUC: 0.8165568870963189\n",
      "epoch: 90, HR: 0.46824130226619853, NDCG: 0.25294654630244656, AUC: 0.8161764468818524\n",
      "epoch: 91, HR: 0.4730290456431535, NDCG: 0.25464290734054246, AUC: 0.8151640890230213\n",
      "epoch: 92, HR: 0.469677625279285, NDCG: 0.2538168918417167, AUC: 0.8142403930785818\n",
      "epoch: 93, HR: 0.475103734439834, NDCG: 0.2562698905509621, AUC: 0.8164521048338609\n",
      "epoch: 94, HR: 0.476380466007022, NDCG: 0.2557487375299974, AUC: 0.8176466226258877\n",
      "epoch: 95, HR: 0.476061283115225, NDCG: 0.2576738554193173, AUC: 0.8183027207923592\n",
      "epoch: 96, HR: 0.474784551548037, NDCG: 0.2570460973380228, AUC: 0.8172452259589332\n"
     ]
    },
    {
     "name": "stdout",
     "output_type": "stream",
     "text": [
      "epoch: 97, HR: 0.475422917331631, NDCG: 0.2578142039487237, AUC: 0.8171871927058774\n",
      "epoch: 98, HR: 0.48068943504628153, NDCG: 0.25956381160803943, AUC: 0.8168486653963976\n",
      "epoch: 99, HR: 0.4727098627513565, NDCG: 0.2533183731853829, AUC: 0.8164472687294387\n",
      "epoch: 100, HR: 0.46648579636131504, NDCG: 0.2547694311123035, AUC: 0.8161087414199554\n",
      "\n",
      "CPU times: user 6min 50s, sys: 1.58 s, total: 6min 51s\n",
      "Wall time: 6min 54s\n"
     ]
    }
   ],
   "source": [
    "%%time\n",
    "p_lambda = 0.1\n",
    "lr = 0.1\n",
    "max_epoch = 100\n",
    "dimension = 50\n",
    "eva_k = 10\n",
    "batch_size = 64\n",
    "record_epoch = 50\n",
    "\n",
    "model_bpr = BPR_MF(p_lambda, lr, max_epoch, dimension, eva_k, batch_size)\n",
    "%lprun -f model_bpr.fit model_bpr.fit(train_ml, Xvalid_ml_mix, yvalid_ml_mix, record_epoch)"
   ]
  },
  {
   "cell_type": "markdown",
   "metadata": {},
   "source": [
    "## Models DNS training"
   ]
  },
  {
   "cell_type": "code",
   "execution_count": 16,
   "metadata": {
    "scrolled": true
   },
   "outputs": [
    {
     "ename": "NameError",
     "evalue": "name 'BPR_DNS_Linear' is not defined",
     "output_type": "error",
     "traceback": [
      "\u001b[0;31m---------------------------------------------------------------------------\u001b[0m",
      "\u001b[0;31mNameError\u001b[0m                                 Traceback (most recent call last)",
      "\u001b[0;32m<timed exec>\u001b[0m in \u001b[0;36m<module>\u001b[0;34m()\u001b[0m\n",
      "\u001b[0;31mNameError\u001b[0m: name 'BPR_DNS_Linear' is not defined"
     ]
    }
   ],
   "source": [
    "%%time\n",
    "beta = 0.5\n",
    "ada = 10\n",
    "p_lambda = 0.1\n",
    "lr = 0.1\n",
    "max_epoch = 100\n",
    "dimension = 50\n",
    "eva_k = 10\n",
    "batch_size = 64\n",
    "\n",
    "model_dns = BPR_MF_DNS(beta, ada, p_lambda, lr, max_epoch, dimension, eva_k, batch_size)\n",
    "%lprun -f model_dns.fit model_dns.fit(train_ml, Xvalid_ml_mix, yvalid_ml_mix)"
   ]
  },
  {
   "cell_type": "code",
   "execution_count": 66,
   "metadata": {
    "scrolled": true
   },
   "outputs": [
    {
     "data": {
      "application/vnd.jupyter.widget-view+json": {
       "model_id": "917bbd308f034906b46bb04e2a8e2747",
       "version_major": 2,
       "version_minor": 0
      },
      "text/plain": [
       "HBox(children=(IntProgress(value=0), HTML(value='')))"
      ]
     },
     "metadata": {},
     "output_type": "display_data"
    },
    {
     "name": "stderr",
     "output_type": "stream",
     "text": [
      "C:\\Users\\Yufei\\Anaconda3\\lib\\site-packages\\ipykernel_launcher.py:15: RuntimeWarning: invalid value encountered in double_scalars\n",
      "  from ipykernel import kernelapp as app\n"
     ]
    },
    {
     "name": "stdout",
     "output_type": "stream",
     "text": [
      "epoch: 1, HR: 0.5219721329046088, NDCG: 0.2988104906189313, AUC: 0.8478857889361731\n",
      "epoch: 2, HR: 0.5612718828152912, NDCG: 0.3304625262492752, AUC: 0.8608395494783619\n",
      "epoch: 3, HR: 0.5912826009289032, NDCG: 0.3466344202935831, AUC: 0.8699445328598728\n",
      "epoch: 4, HR: 0.5973561986423723, NDCG: 0.35343753367055947, AUC: 0.8739087913793272\n",
      "epoch: 5, HR: 0.609146123615577, NDCG: 0.3612846016722995, AUC: 0.8750419522123827\n",
      "epoch: 6, HR: 0.6062879599857092, NDCG: 0.36450167536415495, AUC: 0.8774562343694302\n",
      "epoch: 7, HR: 0.6187924258663808, NDCG: 0.36210471444676506, AUC: 0.8773335354257241\n",
      "epoch: 8, HR: 0.613969274740979, NDCG: 0.36423409077266244, AUC: 0.8788023139577407\n",
      "epoch: 9, HR: 0.6186137906395142, NDCG: 0.37066420306766384, AUC: 0.8788600546371313\n",
      "epoch: 10, HR: 0.6150410861021793, NDCG: 0.3615158582196752, AUC: 0.8774814959166647\n",
      "epoch: 11, HR: 0.6046802429439085, NDCG: 0.3599716050730673, AUC: 0.878333170937686\n",
      "epoch: 12, HR: 0.6161128974633798, NDCG: 0.37039850443286065, AUC: 0.8790675602036943\n",
      "epoch: 13, HR: 0.6121829224723115, NDCG: 0.36074927794067524, AUC: 0.8762599196682924\n",
      "epoch: 14, HR: 0.6161128974633798, NDCG: 0.36350725043650073, AUC: 0.8774526255769698\n",
      "epoch: 15, HR: 0.6137906395141122, NDCG: 0.3647836222388247, AUC: 0.8774706695392758\n",
      "epoch: 16, HR: 0.6120042872454448, NDCG: 0.36201553340402, AUC: 0.8788618590333632\n",
      "epoch: 17, HR: 0.605037513397642, NDCG: 0.3584681105656129, AUC: 0.8761498514982051\n",
      "epoch: 18, HR: 0.609146123615577, NDCG: 0.3626586570882826, AUC: 0.8784233907492305\n",
      "epoch: 19, HR: 0.6095033940693104, NDCG: 0.36003545288269406, AUC: 0.8774995398789749\n",
      "epoch: 20, HR: 0.6089674883887103, NDCG: 0.3667372971926889, AUC: 0.8785948083911753\n",
      "epoch: 21, HR: 0.6148624508753127, NDCG: 0.36485775820675836, AUC: 0.8792101075059403\n",
      "epoch: 22, HR: 0.6137906395141122, NDCG: 0.368647263770483, AUC: 0.8777250894078482\n",
      "epoch: 23, HR: 0.612540192926045, NDCG: 0.3675374259378289, AUC: 0.8769762649719901\n",
      "epoch: 24, HR: 0.6186137906395142, NDCG: 0.3693171996126403, AUC: 0.877719676219151\n",
      "epoch: 25, HR: 0.615934262236513, NDCG: 0.3600022338376929, AUC: 0.8787283337122714\n",
      "epoch: 26, HR: 0.6077170418006431, NDCG: 0.3623374205232353, AUC: 0.8764313373102363\n",
      "epoch: 27, HR: 0.6168274383708467, NDCG: 0.3679172982493007, AUC: 0.8791379316567022\n",
      "epoch: 28, HR: 0.6109324758842444, NDCG: 0.3634913096794847, AUC: 0.8783873028246145\n",
      "epoch: 29, HR: 0.6148624508753127, NDCG: 0.3690121377311087, AUC: 0.8789159909202889\n",
      "epoch: 30, HR: 0.6212933190425152, NDCG: 0.3673948241441651, AUC: 0.8789556876373735\n",
      "epoch: 31, HR: 0.6170060735977134, NDCG: 0.36772343568544513, AUC: 0.8778459839553223\n",
      "epoch: 32, HR: 0.6075384065737763, NDCG: 0.36464597765098344, AUC: 0.877624043218912\n",
      "epoch: 33, HR: 0.6195069667738478, NDCG: 0.3681989915605122, AUC: 0.879302131713722\n",
      "epoch: 34, HR: 0.6130760986066452, NDCG: 0.36655017016536845, AUC: 0.8783873028246132\n",
      "epoch: 35, HR: 0.6209360485887817, NDCG: 0.37013771496427245, AUC: 0.8801123056214284\n",
      "epoch: 36, HR: 0.6114683815648446, NDCG: 0.3660191536840074, AUC: 0.8775753245206743\n",
      "epoch: 37, HR: 0.6123615576991783, NDCG: 0.365214601751434, AUC: 0.8786435270894126\n",
      "epoch: 38, HR: 0.6177206145051805, NDCG: 0.3666309158135957, AUC: 0.8785569160703305\n",
      "epoch: 39, HR: 0.6116470167917113, NDCG: 0.3675363178798836, AUC: 0.8779235729932537\n",
      "epoch: 40, HR: 0.6220078599499821, NDCG: 0.36902469570422536, AUC: 0.8797027076769981\n",
      "epoch: 41, HR: 0.6162915326902465, NDCG: 0.3652477888696051, AUC: 0.8779452257480244\n",
      "epoch: 42, HR: 0.6111111111111112, NDCG: 0.363136344013304, AUC: 0.8793779163554201\n",
      "epoch: 43, HR: 0.6143265451947124, NDCG: 0.36830301285301753, AUC: 0.8793472416194961\n",
      "epoch: 44, HR: 0.612540192926045, NDCG: 0.3661175665144359, AUC: 0.8760830888376561\n",
      "epoch: 45, HR: 0.6157556270096463, NDCG: 0.36299977755822393, AUC: 0.8773714277465753\n",
      "epoch: 46, HR: 0.6175419792783137, NDCG: 0.3669865104385788, AUC: 0.879210107505941\n",
      "epoch: 47, HR: 0.6153983565559128, NDCG: 0.36572196750496777, AUC: 0.8778622235214016\n",
      "epoch: 48, HR: 0.6077170418006431, NDCG: 0.3602895753195426, AUC: 0.8772252716518654\n",
      "epoch: 49, HR: 0.6100392997499107, NDCG: 0.3660200566455829, AUC: 0.8779145510120984\n",
      "epoch: 50, HR: 0.6141479099678456, NDCG: 0.3662101730216747, AUC: 0.8787463776745831\n",
      "epoch: 51, HR: 0.6116470167917113, NDCG: 0.366036352737822, AUC: 0.8785551116740976\n",
      "epoch: 52, HR: 0.6087888531618435, NDCG: 0.3640192131325021, AUC: 0.8781924280316703\n",
      "epoch: 53, HR: 0.6123615576991783, NDCG: 0.3635774125478129, AUC: 0.877541040992287\n",
      "epoch: 54, HR: 0.6182565201857806, NDCG: 0.3635281601715016, AUC: 0.8785045885796278\n",
      "epoch: 55, HR: 0.6155769917827796, NDCG: 0.3634662090188321, AUC: 0.8783223445602997\n",
      "epoch: 56, HR: 0.6157556270096463, NDCG: 0.3669438496514439, AUC: 0.8780570983143485\n",
      "epoch: 57, HR: 0.6120042872454448, NDCG: 0.3593949888448608, AUC: 0.8771675309724728\n",
      "epoch: 58, HR: 0.621471954269382, NDCG: 0.37075373328076705, AUC: 0.8790783865810817\n",
      "epoch: 59, HR: 0.6153983565559128, NDCG: 0.3693711243485655, AUC: 0.8780877730502692\n",
      "epoch: 60, HR: 0.6137906395141122, NDCG: 0.36622697461923415, AUC: 0.8785821776175627\n",
      "epoch: 61, HR: 0.6121829224723115, NDCG: 0.3688875378392265, AUC: 0.8792209338833235\n",
      "epoch: 62, HR: 0.6177206145051805, NDCG: 0.36434626815052473, AUC: 0.8777160674266937\n",
      "epoch: 63, HR: 0.613969274740979, NDCG: 0.36655033790120517, AUC: 0.8786092435610258\n",
      "epoch: 64, HR: 0.6152197213290461, NDCG: 0.36544270973079884, AUC: 0.878919599712754\n",
      "epoch: 65, HR: 0.6028938906752411, NDCG: 0.359145766440715, AUC: 0.8768319132735114\n",
      "epoch: 66, HR: 0.6153983565559128, NDCG: 0.3677822669667858, AUC: 0.8773425574068815\n",
      "epoch: 67, HR: 0.6143265451947124, NDCG: 0.3663721560944104, AUC: 0.8765251659142458\n",
      "epoch: 68, HR: 0.612540192926045, NDCG: 0.3723181939472775, AUC: 0.8784233907492358\n",
      "epoch: 69, HR: 0.617363344051447, NDCG: 0.35708001753788265, AUC: 0.8784648918625457\n",
      "epoch: 70, HR: 0.6171847088245802, NDCG: 0.3688567004660243, AUC: 0.8798723209227096\n",
      "epoch: 71, HR: 0.6252232940335835, NDCG: 0.36634275987858345, AUC: 0.8788257711087414\n",
      "epoch: 72, HR: 0.6164701679171133, NDCG: 0.3621589581342719, AUC: 0.877721480615383\n",
      "epoch: 73, HR: 0.6182565201857806, NDCG: 0.37108085417113307, AUC: 0.8780661202954992\n",
      "epoch: 74, HR: 0.6148624508753127, NDCG: 0.36606582370596086, AUC: 0.8780877730502741\n",
      "epoch: 75, HR: 0.60843158270811, NDCG: 0.36381676122272283, AUC: 0.8769997221229952\n",
      "epoch: 76, HR: 0.6205787781350482, NDCG: 0.3671004677826816, AUC: 0.8792822833551796\n",
      "epoch: 77, HR: 0.6225437656305823, NDCG: 0.36946538403861795, AUC: 0.878463087466316\n",
      "epoch: 78, HR: 0.6148624508753127, NDCG: 0.3658144693274561, AUC: 0.8780589027105777\n",
      "epoch: 79, HR: 0.6111111111111112, NDCG: 0.36737480444126014, AUC: 0.8775121706525914\n",
      "epoch: 80, HR: 0.6123615576991783, NDCG: 0.35909290354277734, AUC: 0.8780390543520336\n",
      "epoch: 81, HR: 0.6143265451947124, NDCG: 0.36504039092692214, AUC: 0.8780877730502737\n",
      "epoch: 82, HR: 0.6137906395141122, NDCG: 0.3643373751568927, AUC: 0.8793219800722584\n",
      "epoch: 83, HR: 0.6086102179349768, NDCG: 0.36077906358765927, AUC: 0.876990700141837\n",
      "epoch: 84, HR: 0.6227224008574491, NDCG: 0.36978091161813786, AUC: 0.8793490460157255\n",
      "epoch: 85, HR: 0.6180778849589139, NDCG: 0.36466940648036755, AUC: 0.8784360215228515\n",
      "epoch: 86, HR: 0.6136120042872455, NDCG: 0.368828123711677, AUC: 0.8785063929758616\n",
      "epoch: 87, HR: 0.615934262236513, NDCG: 0.36677082567748104, AUC: 0.8790062107318437\n",
      "epoch: 88, HR: 0.620042872454448, NDCG: 0.36508134997270697, AUC: 0.8785857864100204\n",
      "epoch: 89, HR: 0.6128974633797785, NDCG: 0.3645272936711207, AUC: 0.878242951126137\n",
      "epoch: 90, HR: 0.6057520543051089, NDCG: 0.3654423485456235, AUC: 0.8770087441041513\n",
      "epoch: 91, HR: 0.6177206145051805, NDCG: 0.3655425092242252, AUC: 0.8787698348255806\n",
      "epoch: 92, HR: 0.6127188281529118, NDCG: 0.3646103382184665, AUC: 0.8787427688821147\n",
      "epoch: 93, HR: 0.6155769917827796, NDCG: 0.3634140487648077, AUC: 0.8772974475011078\n",
      "epoch: 94, HR: 0.6152197213290461, NDCG: 0.36583063183857073, AUC: 0.8773732321428052\n",
      "epoch: 95, HR: 0.6137906395141122, NDCG: 0.36685468340802335, AUC: 0.8781671664844338\n",
      "epoch: 96, HR: 0.6184351554126474, NDCG: 0.368880404262198, AUC: 0.8789412524675241\n",
      "epoch: 97, HR: 0.6209360485887817, NDCG: 0.36576298324933276, AUC: 0.8792155206946342\n",
      "epoch: 98, HR: 0.6155769917827796, NDCG: 0.36852613646733384, AUC: 0.8781022082201206\n",
      "epoch: 99, HR: 0.6153983565559128, NDCG: 0.3641674744969375, AUC: 0.8788185535238171\n",
      "epoch: 100, HR: 0.6178992497320471, NDCG: 0.3636980284397878, AUC: 0.8785100017683233\n",
      "Wall time: 3h 1min 42s\n"
     ]
    }
   ],
   "source": [
    "%%time\n",
    "ada = 10\n",
    "p_lambda = 0.1\n",
    "lr = 0.1\n",
    "max_epoch = 100\n",
    "dimension = 50\n",
    "eva_k = 10\n",
    "batch_size = 64\n",
    "\n",
    "model_ans = ANS(ada, p_lambda, lr, max_epoch, dimension, eva_k, batch_size)\n",
    "%lprun -f model_ans.fit model_ans.fit(train_ml, Xvalid_ml_mix, yvalid_ml_mix)"
   ]
  },
  {
   "cell_type": "code",
   "execution_count": 69,
   "metadata": {
    "scrolled": true
   },
   "outputs": [
    {
     "name": "stdout",
     "output_type": "stream",
     "text": [
      "epoch: 50, HR: 0.6014648088603073, NDCG: 0.3518493319109833, AUC: 0.8769708517832994\n"
     ]
    },
    {
     "data": {
      "application/vnd.jupyter.widget-view+json": {
       "model_id": "bf34985b967542d6b053c304b7afc424",
       "version_major": 2,
       "version_minor": 0
      },
      "text/plain": [
       "HBox(children=(IntProgress(value=0, max=50), HTML(value='')))"
      ]
     },
     "metadata": {},
     "output_type": "display_data"
    },
    {
     "name": "stdout",
     "output_type": "stream",
     "text": [
      "epoch: 51, HR: 0.6396927474097892, NDCG: 0.3818194553072318, AUC: 0.8906499796103348\n",
      "epoch: 52, HR: 0.6579135405501965, NDCG: 0.3978980687581505, AUC: 0.8951699921689323\n",
      "epoch: 53, HR: 0.6516613076098606, NDCG: 0.3964711733791633, AUC: 0.8957239418118432\n",
      "epoch: 54, HR: 0.6654162200785995, NDCG: 0.3972144729364356, AUC: 0.897654645778989\n",
      "epoch: 55, HR: 0.6677384780278671, NDCG: 0.3965622256339792, AUC: 0.8984684284791615\n",
      "epoch: 56, HR: 0.6680957484816006, NDCG: 0.4066533322100433, AUC: 0.8992172529150185\n",
      "epoch: 57, HR: 0.6639871382636656, NDCG: 0.40020926758181447, AUC: 0.8983421207429915\n",
      "epoch: 58, HR: 0.68345837799214, NDCG: 0.4131465492888384, AUC: 0.9015304888831327\n",
      "epoch: 59, HR: 0.6818506609503394, NDCG: 0.4146510044971119, AUC: 0.9029054388111333\n",
      "epoch: 60, HR: 0.6847088245802072, NDCG: 0.4181580635540877, AUC: 0.9041883645313618\n",
      "epoch: 61, HR: 0.6798856734548053, NDCG: 0.4128077637712789, AUC: 0.9047062262496511\n",
      "epoch: 62, HR: 0.6938192211504108, NDCG: 0.421817869389814, AUC: 0.9052276967604002\n",
      "epoch: 63, HR: 0.6952483029653448, NDCG: 0.42728447852144136, AUC: 0.906575580744941\n",
      "epoch: 64, HR: 0.6945337620578779, NDCG: 0.4298498521885595, AUC: 0.9076040865965986\n",
      "epoch: 65, HR: 0.6986423722758128, NDCG: 0.4310448343278049, AUC: 0.9079126383520939\n",
      "epoch: 66, HR: 0.7007859949982137, NDCG: 0.42837488292516174, AUC: 0.9092533047517091\n",
      "epoch: 67, HR: 0.7077527688460165, NDCG: 0.43378130882321003, AUC: 0.9090169288454546\n",
      "epoch: 68, HR: 0.7147195426938192, NDCG: 0.4399481680731603, AUC: 0.9106715601892584\n",
      "epoch: 69, HR: 0.7102536620221508, NDCG: 0.43831616467985474, AUC: 0.9106805821704159\n",
      "epoch: 70, HR: 0.7154340836012861, NDCG: 0.4440058999088371, AUC: 0.9112110746623198\n",
      "epoch: 71, HR: 0.7172204358699535, NDCG: 0.4434437553833352, AUC: 0.9126130905337889\n",
      "epoch: 72, HR: 0.714898177920686, NDCG: 0.444061436568274, AUC: 0.9121782310421275\n",
      "epoch: 73, HR: 0.7211504108610218, NDCG: 0.44162594659194837, AUC: 0.913269890761868\n",
      "epoch: 74, HR: 0.7220435869953555, NDCG: 0.44847907724718533, AUC: 0.9134701787435049\n",
      "epoch: 75, HR: 0.7213290460878885, NDCG: 0.44792121711158556, AUC: 0.9142911790286002\n",
      "epoch: 76, HR: 0.7234726688102894, NDCG: 0.4490288215603702, AUC: 0.9145528164820944\n",
      "epoch: 77, HR: 0.732583065380493, NDCG: 0.4547419630625572, AUC: 0.9155037332958169\n",
      "epoch: 78, HR: 0.7290103608431583, NDCG: 0.45610415093328477, AUC: 0.9160630961274174\n",
      "epoch: 79, HR: 0.7274026438013577, NDCG: 0.45789841697780725, AUC: 0.9154008827106536\n",
      "epoch: 80, HR: 0.7277599142550911, NDCG: 0.45695396494174645, AUC: 0.9158140894475431\n",
      "epoch: 81, HR: 0.7277599142550911, NDCG: 0.4567734935023427, AUC: 0.9166368941288713\n",
      "epoch: 82, HR: 0.7331189710610932, NDCG: 0.4602527164654086, AUC: 0.9163139072035276\n",
      "epoch: 83, HR: 0.7391925687745623, NDCG: 0.46266161112794124, AUC: 0.9172413668662502\n",
      "epoch: 84, HR: 0.7313326187924258, NDCG: 0.4627249982236118, AUC: 0.9166801996384127\n",
      "epoch: 85, HR: 0.729903536977492, NDCG: 0.4583022526116366, AUC: 0.9170104041486836\n",
      "epoch: 86, HR: 0.7390139335476956, NDCG: 0.46591250171263415, AUC: 0.9184340727749224\n",
      "epoch: 87, HR: 0.7372275812790282, NDCG: 0.46715454780542154, AUC: 0.9185459453412446\n",
      "epoch: 88, HR: 0.7411575562700965, NDCG: 0.4698688771323982, AUC: 0.9187498421153438\n",
      "epoch: 89, HR: 0.744908896034298, NDCG: 0.47270380900022435, AUC: 0.9197007589290753\n",
      "epoch: 90, HR: 0.740085744908896, NDCG: 0.47242229811511194, AUC: 0.9203774075156856\n",
      "epoch: 91, HR: 0.7402643801357628, NDCG: 0.4702282587214509, AUC: 0.919525732494662\n",
      "epoch: 92, HR: 0.7431225437656306, NDCG: 0.4709880567540317, AUC: 0.9192045499655507\n",
      "epoch: 93, HR: 0.7465166130760986, NDCG: 0.4773535694242081, AUC: 0.9206751328937954\n",
      "epoch: 94, HR: 0.7379421221864951, NDCG: 0.46977010280874426, AUC: 0.9192063543617811\n",
      "epoch: 95, HR: 0.7391925687745623, NDCG: 0.47063858538719955, AUC: 0.919969613967484\n",
      "epoch: 96, HR: 0.750982493747767, NDCG: 0.47389514456139054, AUC: 0.9206101746294844\n",
      "epoch: 97, HR: 0.7447302608074312, NDCG: 0.47729652388149824, AUC: 0.9195582116268209\n",
      "epoch: 98, HR: 0.7468738835298321, NDCG: 0.4779828759587759, AUC: 0.9203774075156885\n",
      "epoch: 99, HR: 0.740800285816363, NDCG: 0.47113592723896597, AUC: 0.9192713126260985\n",
      "epoch: 100, HR: 0.7477670596641658, NDCG: 0.475727643526191, AUC: 0.9214221529334226\n",
      "Wall time: 7min 5s\n"
     ]
    }
   ],
   "source": [
    "%%time\n",
    "p_lambda = 0.001\n",
    "p_adv = 0.2\n",
    "eps = 0.5\n",
    "lr = 0.1\n",
    "s_epoch = record_epoch\n",
    "e_epoch = max_epoch\n",
    "dimension = 50\n",
    "eva_k = 10\n",
    "batch_size = 64\n",
    "w_ml_bpr, h_ml_bpr = model_bpr.record_w.copy(), model_bpr.record_h.copy()\n",
    "model_apr = APR(p_lambda, p_adv, eps, lr, s_epoch, e_epoch, dimension, eva_k, batch_size)\n",
    "model_apr.fit(w_ml_bpr, h_ml_bpr, train_ml, Xvalid_ml_mix, yvalid_ml_mix)"
   ]
  },
  {
   "cell_type": "code",
   "execution_count": 70,
   "metadata": {},
   "outputs": [
    {
     "data": {
      "image/png": "[encoded data removed]",
      "text/plain": [
       "<Figure size 432x288 with 1 Axes>"
      ]
     },
     "metadata": {
      "needs_background": "light"
     },
     "output_type": "display_data"
    },
    {
     "data": {
      "image/png": "[encoded data removed]",
      "text/plain": [
       "<Figure size 432x288 with 1 Axes>"
      ]
     },
     "metadata": {
      "needs_background": "light"
     },
     "output_type": "display_data"
    },
    {
     "data": {
      "image/png": "[encoded data removed]",
      "text/plain": [
       "<Figure size 432x288 with 1 Axes>"
      ]
     },
     "metadata": {
      "needs_background": "light"
     },
     "output_type": "display_data"
    }
   ],
   "source": [
    "import matplotlib.pyplot as plt\n",
    "#plt.figure(figsize=(10,6))\n",
    "plt.plot(model_bpr.hr,label='bpr',linestyle=\"--\")\n",
    "plt.plot(model_dns.hr,label='dns_linear',linestyle=\"--\")\n",
    "plt.plot(range(s_epoch,e_epoch),model_apr.hr[:-1],label='apr',linestyle=\"--\")\n",
    "plt.plot(model_ans.hr,label='ans')\n",
    "plt.legend()\n",
    "plt.title('Hit Ratio-10')\n",
    "plt.show()\n",
    "#plt.figure(figsize=(10,6))\n",
    "plt.plot(model_bpr.ndcg,label='bpr',linestyle=\"--\")\n",
    "plt.plot(model_dns.ndcg,label='dns_linear',linestyle=\"--\")\n",
    "plt.plot(range(s_epoch,e_epoch),model_apr.ndcg[:-1],label='apr',linestyle=\"--\")\n",
    "plt.plot(model_ans.ndcg,label='ans')\n",
    "plt.legend()\n",
    "plt.title('NDCG-10')\n",
    "plt.show()\n",
    "#plt.figure(figsize=(10,6))\n",
    "plt.plot(model_bpr.auc,label='bpr',linestyle=\"--\")\n",
    "plt.plot(model_dns.auc,label='dns_linear',linestyle=\"--\")\n",
    "plt.plot(range(s_epoch,e_epoch),model_apr.auc[:-1],label='apr',linestyle=\"--\")\n",
    "plt.plot(model_ans.auc,label='ans')\n",
    "plt.legend()\n",
    "plt.title('AUC-10')\n",
    "plt.show()"
   ]
  },
  {
   "cell_type": "code",
   "execution_count": null,
   "metadata": {},
   "outputs": [],
   "source": []
  }
 ],
 "metadata": {
  "kernelspec": {
   "display_name": "Python 3",
   "language": "python",
   "name": "python3"
  },
  "language_info": {
   "codemirror_mode": {
    "name": "ipython",
    "version": 3
   },
   "file_extension": ".py",
   "mimetype": "text/x-python",
   "name": "python",
   "nbconvert_exporter": "python",
   "pygments_lexer": "ipython3",
   "version": "3.6.8"
  }
 },
 "nbformat": 4,
 "nbformat_minor": 2
}
